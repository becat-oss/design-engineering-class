{
 "cells": [
  {
   "cell_type": "markdown",
   "id": "2aa331e1",
   "metadata": {},
   "source": [
    "## マクロに日本全体のエネルギー消費量の内訳を見てみよう"
   ]
  },
  {
   "cell_type": "markdown",
   "id": "056eaf6b",
   "metadata": {},
   "source": [
    "40%のエネルギー消費量消費量が建物起因"
   ]
  },
  {
   "cell_type": "markdown",
   "id": "6ba55540",
   "metadata": {},
   "source": [
    "## 全ての環境デザインはエネルギー消費削減量という形で定量化される"
   ]
  },
  {
   "cell_type": "markdown",
   "id": "0707727a",
   "metadata": {},
   "source": [
    "通風、日射遮蔽などよく使われる設計手法はもちろんエネルギー消費量削減のためだけではないが、建物全体としてのエネルギー消費量の話を抜きに効果をうたうのは違和感がある"
   ]
  },
  {
   "cell_type": "markdown",
   "id": "919178dc",
   "metadata": {},
   "source": [
    "## 設計における決定が建物のエネルギー性能にどう影響するのかをより手軽に確認できる"
   ]
  },
  {
   "cell_type": "markdown",
   "id": "5feabbe4",
   "metadata": {},
   "source": [
    "<img src=\"assets/baues_analysis_concept.png\">"
   ]
  },
  {
   "attachments": {},
   "cell_type": "markdown",
   "id": "e8dadfb0",
   "metadata": {},
   "source": [
    "<img src=\"assets/baues_analysis_top.png\">"
   ]
  },
  {
   "cell_type": "markdown",
   "id": "c7dc650f",
   "metadata": {},
   "source": [
    "### 使用例1"
   ]
  },
  {
   "cell_type": "markdown",
   "id": "fc44b77a",
   "metadata": {},
   "source": [
    "## 実際に触ってみましょう"
   ]
  },
  {
   "cell_type": "markdown",
   "id": "f5ea003b",
   "metadata": {},
   "source": [
    "### 今回はRhinceros上でモデリング->Grasshopperを用いてアップロードという流れをシミュレーションします"
   ]
  },
  {
   "cell_type": "markdown",
   "id": "aef914c8",
   "metadata": {},
   "source": [
    "[BAUES Analysisのドキュメンテーション]()を用いて説明を行います。"
   ]
  },
  {
   "cell_type": "markdown",
   "id": "7a53f060",
   "metadata": {},
   "source": [
    "デモで使う図面は有馬君に聞く"
   ]
  },
  {
   "cell_type": "markdown",
   "id": "077fc69e",
   "metadata": {},
   "source": [
    "## 計算結果を見てみよう"
   ]
  },
  {
   "cell_type": "markdown",
   "id": "c60924e2",
   "metadata": {},
   "source": [
    "### 建物全体のエネルギー消費量"
   ]
  },
  {
   "cell_type": "markdown",
   "id": "4c01f511",
   "metadata": {},
   "source": [
    "<img src=\"assets/overall_energy_consumption.png\">"
   ]
  },
  {
   "cell_type": "markdown",
   "id": "80bf8d47",
   "metadata": {},
   "source": [
    "赤枠で囲んでいる部分が建物全体の年間エネルギー消費量です。他の計算結果と比較しやすくするために、建物の延べ床面積で割った値、空調面積で割った値を示しています。（EUI Energy Use Intensityと呼びます）\n",
    "日本の基準では、EUIを基準としている例は見られませんが、シンガポールではEUIが100を切るような建物をxxxと認定して省エネを推奨しています（シンガポールの基準を理解）"
   ]
  },
  {
   "cell_type": "markdown",
   "id": "3faaff53",
   "metadata": {},
   "source": [
    "### エネルギー消費量の内訳"
   ]
  },
  {
   "cell_type": "markdown",
   "id": "ee3bbae6",
   "metadata": {},
   "source": [
    "<img src=\"assets/energy_consumption_breakdown.png\">"
   ]
  },
  {
   "cell_type": "markdown",
   "id": "2a9d390a",
   "metadata": {},
   "source": [
    "BAUES Analysisでは、建物内で消費するエネルギーを以下の項目について計算しています。それぞれのエネルギー消費量がどういったパラメータによって決まってくるかを説明します。  \n",
    "- 暖房  \n",
    "- 冷房  \n",
    "- 照明  \n",
    "- OA機器  \n",
    "- 搬送動力（ファン）"
   ]
  },
  {
   "cell_type": "markdown",
   "id": "6c497c2a",
   "metadata": {},
   "source": [
    "給湯も住宅における主要なエネルギー消費項目ですが、まだ計算機能を実装できていません。今後実装予定です。"
   ]
  },
  {
   "cell_type": "markdown",
   "id": "c1831011",
   "metadata": {},
   "source": [
    "### 空調（暖房・冷房）のエネルギー消費量"
   ]
  },
  {
   "cell_type": "markdown",
   "id": "05e5a03d",
   "metadata": {},
   "source": [
    "（イラストを挿入）"
   ]
  },
  {
   "cell_type": "markdown",
   "id": "70667289",
   "metadata": {},
   "source": [
    "<img src=\"assets/heat_balance.png\">"
   ]
  },
  {
   "cell_type": "markdown",
   "id": "d3158afa",
   "metadata": {},
   "source": [
    "### 照明のエネルギー消費量"
   ]
  },
  {
   "cell_type": "markdown",
   "id": "65e8fa4e",
   "metadata": {},
   "source": [
    "### OA機器のエネルギー消費量"
   ]
  },
  {
   "cell_type": "markdown",
   "id": "9f3338ea",
   "metadata": {},
   "source": [
    "### 搬送動力（ファン）のエネルギー消費量"
   ]
  },
  {
   "cell_type": "markdown",
   "id": "becb2384",
   "metadata": {},
   "source": [
    "## それでは実際にエネルギー消費量を減らしてみましょう"
   ]
  },
  {
   "cell_type": "markdown",
   "id": "a3e6af04",
   "metadata": {},
   "source": [
    "### シナリオ1. 窓の断熱性能を上げてみる"
   ]
  },
  {
   "cell_type": "markdown",
   "id": "c5037c58",
   "metadata": {},
   "source": [
    "窓のカタログ値を見せる（単層ガラス->複層ガラス）"
   ]
  },
  {
   "cell_type": "markdown",
   "id": "770d8d3a",
   "metadata": {},
   "source": [
    "### シナリオ2. 照明の効率を上げてみる（LED照明）"
   ]
  },
  {
   "cell_type": "markdown",
   "id": "522e83af",
   "metadata": {},
   "source": [
    "### シナリオ3. 空調の効率を上げてみる"
   ]
  },
  {
   "cell_type": "markdown",
   "id": "2ba6c12c",
   "metadata": {},
   "source": [
    "## （上級編）Jupyter Notebookを使って更なる分析をしてみましょう"
   ]
  },
  {
   "cell_type": "markdown",
   "id": "dd4206f3",
   "metadata": {},
   "source": [
    "問1. 空調機器のCOPはPart Load Ratio, 吹き出し温度などのパラメータによって変わります。=>ということは高度な制御をすると、高いCOPを保ちながら運転をすることができる。シミュレーションの中で実際にどのような運用がされているのかを確認してみましょう"
   ]
  },
  {
   "cell_type": "markdown",
   "id": "075054ce",
   "metadata": {},
   "source": [
    "(EnergyPlusのドキュメントを挿入する）"
   ]
  },
  {
   "cell_type": "markdown",
   "id": "92bfb379",
   "metadata": {},
   "source": [
    "問2. 自分のシミュレーションの計算結果を他の統計結果と比較してみよう"
   ]
  },
  {
   "cell_type": "markdown",
   "id": "b9ac0ad9",
   "metadata": {},
   "source": [
    "## エネルギーシミュレーションで扱うパラメータ"
   ]
  },
  {
   "cell_type": "markdown",
   "id": "3628c464",
   "metadata": {},
   "source": [
    "<img src=\"assets/parameters.png\">"
   ]
  },
  {
   "cell_type": "code",
   "execution_count": null,
   "id": "d0961a4a",
   "metadata": {},
   "outputs": [],
   "source": []
  }
 ],
 "metadata": {
  "kernelspec": {
   "display_name": "Python 3 (ipykernel)",
   "language": "python",
   "name": "python3"
  },
  "language_info": {
   "codemirror_mode": {
    "name": "ipython",
    "version": 3
   },
   "file_extension": ".py",
   "mimetype": "text/x-python",
   "name": "python",
   "nbconvert_exporter": "python",
   "pygments_lexer": "ipython3",
   "version": "3.9.7"
  }
 },
 "nbformat": 4,
 "nbformat_minor": 5
}
