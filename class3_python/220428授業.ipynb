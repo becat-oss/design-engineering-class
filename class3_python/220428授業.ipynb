{
  "nbformat": 4,
  "nbformat_minor": 0,
  "metadata": {
    "colab": {
      "name": "220428授業.ipynb",
      "provenance": [],
      "authorship_tag": "ABX9TyPgLQdTO5RhU02ThJQIvmM8",
      "include_colab_link": true
    },
    "kernelspec": {
      "name": "python3",
      "display_name": "Python 3"
    },
    "language_info": {
      "name": "python"
    }
  },
  "cells": [
    {
      "cell_type": "markdown",
      "metadata": {
        "id": "view-in-github",
        "colab_type": "text"
      },
      "source": [
        "<a href=\"https://colab.research.google.com/github/katsuya0719/design-engineering-class/blob/main/220428%E6%8E%88%E6%A5%AD.ipynb\" target=\"_parent\"><img src=\"https://colab.research.google.com/assets/colab-badge.svg\" alt=\"Open In Colab\"/></a>"
      ]
    },
    {
      "cell_type": "markdown",
      "source": [
        "Moodleでもらった質問に対する回答"
      ],
      "metadata": {
        "id": "R9fziSCrRAnO"
      }
    },
    {
      "cell_type": "markdown",
      "source": [
        "Q. my_list = [1,2,3,4,4]\n",
        "と追加した場合に、\"4 in my_list\"による4が含まれているかの検索ではなくて4がいくつ入っているかどうか確認する方法はありますか？  \n",
        "A. 例えば以下のような書き方"
      ],
      "metadata": {
        "id": "sNvws5SrRKT0"
      }
    },
    {
      "cell_type": "code",
      "execution_count": 3,
      "metadata": {
        "id": "uTciGq-ZQs72"
      },
      "outputs": [],
      "source": [
        "def countNumInList(targetList,num):\n",
        "  count = 0\n",
        "  for item in targetList:\n",
        "    if item == num:\n",
        "      count +=1\n",
        "  return count"
      ]
    },
    {
      "cell_type": "code",
      "source": [
        "countNumInList([1,2,3,4,4],4)"
      ],
      "metadata": {
        "colab": {
          "base_uri": "https://localhost:8080/"
        },
        "id": "jEAiulmlRFUq",
        "outputId": "4933599e-00dd-4e03-e38c-cb4f8eb27667"
      },
      "execution_count": 4,
      "outputs": [
        {
          "output_type": "execute_result",
          "data": {
            "text/plain": [
              "2"
            ]
          },
          "metadata": {},
          "execution_count": 4
        }
      ]
    },
    {
      "cell_type": "markdown",
      "source": [
        "Q. pythonの予習課題のバブルソートの問題に挑戦しましたが、うまくいきませんでした。  \n",
        "A. うまくいってるように見えるけど..."
      ],
      "metadata": {
        "id": "yXEQY7uSYoQh"
      }
    },
    {
      "cell_type": "code",
      "source": [
        "def bubble_sort(my_list):\n",
        "    for i in range (len(my_list)-1):\n",
        "        if my_list[i] > my_list[i+1]:\n",
        "            my_list.insert(i,my_list[i+1])\n",
        "            del my_list[i+2]\n",
        "    return my_list"
      ],
      "metadata": {
        "id": "PT2NNM33SBdr"
      },
      "execution_count": 5,
      "outputs": []
    },
    {
      "cell_type": "code",
      "source": [
        "my_list = [1, -3, 3, 2]"
      ],
      "metadata": {
        "colab": {
          "base_uri": "https://localhost:8080/"
        },
        "id": "USqLXCjiYpvD",
        "outputId": "d2e22d87-5e9f-4f9a-8d20-5ef47bb0e9cf"
      },
      "execution_count": 6,
      "outputs": [
        {
          "output_type": "execute_result",
          "data": {
            "text/plain": [
              "[-3, 1, 2, 3]"
            ]
          },
          "metadata": {},
          "execution_count": 6
        }
      ]
    },
    {
      "cell_type": "code",
      "source": [
        "bubble_sort(my_list)"
      ],
      "metadata": {
        "colab": {
          "base_uri": "https://localhost:8080/"
        },
        "id": "OL4ZBg3fZAjG",
        "outputId": "06053f42-8d06-47d4-9a6d-116ce70f40b2"
      },
      "execution_count": 7,
      "outputs": [
        {
          "output_type": "execute_result",
          "data": {
            "text/plain": [
              "[-3, 1, 2, 3]"
            ]
          },
          "metadata": {},
          "execution_count": 7
        }
      ]
    },
    {
      "cell_type": "markdown",
      "source": [
        "Q. Python>Bonus exerciseのバブルソートを学習している際に、数値の交換がもう必要のない所を省略する方法として、「break」を使おうとしていました。\n",
        "しかし、いまいち使い方がわからず、参照したサンプルコードではどの数の交換の省略が行われているかがわかりませんでした。  \n",
        "A. 「break」は残っている処理をすっとばして一連の処理を強制終了します。交換する操作の前後にprintを入れてみると、どこで交換が行われているかがわかりやすくなると思います。"
      ],
      "metadata": {
        "id": "eyijRlCkZmR1"
      }
    },
    {
      "cell_type": "code",
      "source": [
        "def bubble_sort(data):\n",
        "    \"\"\"バブルソート：前から2つずつデータを比較し並べ替える．ただし，交換がもう必要ない所は省略する\"\"\"\n",
        "    change = True #交換の余地ありと仮定\n",
        "\n",
        "    for i in range(len(data)):\n",
        "        if not change: #交換の余地無しで繰り返し脱出\n",
        "            break\n",
        "        change = False #交換の余地無しと仮定\n",
        "        for j in range(len(data) - i -1):\n",
        "            if data[j] > data[j+1]: #左の方が大きい場合\n",
        "                print('before',data)\n",
        "                data[j], data[j+1] = data[j+1], data[j] #前後入れ替え\n",
        "                print('after',data)\n",
        "                change = True #交換の余地ありかも\n",
        "\n",
        "    return data\n",
        "DATA = [6, 15, 4, 2, 8, 5, 11, 9, 7, 13]\n",
        "bubble_sort(DATA)"
      ],
      "metadata": {
        "colab": {
          "base_uri": "https://localhost:8080/"
        },
        "id": "uq1xSBpRZ3sB",
        "outputId": "c9132372-e0b0-4b32-afdb-59092e3befb7"
      },
      "execution_count": 8,
      "outputs": [
        {
          "output_type": "stream",
          "name": "stdout",
          "text": [
            "before [6, 15, 4, 2, 8, 5, 11, 9, 7, 13]\n",
            "after [6, 4, 15, 2, 8, 5, 11, 9, 7, 13]\n",
            "before [6, 4, 15, 2, 8, 5, 11, 9, 7, 13]\n",
            "after [6, 4, 2, 15, 8, 5, 11, 9, 7, 13]\n",
            "before [6, 4, 2, 15, 8, 5, 11, 9, 7, 13]\n",
            "after [6, 4, 2, 8, 15, 5, 11, 9, 7, 13]\n",
            "before [6, 4, 2, 8, 15, 5, 11, 9, 7, 13]\n",
            "after [6, 4, 2, 8, 5, 15, 11, 9, 7, 13]\n",
            "before [6, 4, 2, 8, 5, 15, 11, 9, 7, 13]\n",
            "after [6, 4, 2, 8, 5, 11, 15, 9, 7, 13]\n",
            "before [6, 4, 2, 8, 5, 11, 15, 9, 7, 13]\n",
            "after [6, 4, 2, 8, 5, 11, 9, 15, 7, 13]\n",
            "before [6, 4, 2, 8, 5, 11, 9, 15, 7, 13]\n",
            "after [6, 4, 2, 8, 5, 11, 9, 7, 15, 13]\n",
            "before [6, 4, 2, 8, 5, 11, 9, 7, 15, 13]\n",
            "after [6, 4, 2, 8, 5, 11, 9, 7, 13, 15]\n",
            "before [6, 4, 2, 8, 5, 11, 9, 7, 13, 15]\n",
            "after [4, 6, 2, 8, 5, 11, 9, 7, 13, 15]\n",
            "before [4, 6, 2, 8, 5, 11, 9, 7, 13, 15]\n",
            "after [4, 2, 6, 8, 5, 11, 9, 7, 13, 15]\n",
            "before [4, 2, 6, 8, 5, 11, 9, 7, 13, 15]\n",
            "after [4, 2, 6, 5, 8, 11, 9, 7, 13, 15]\n",
            "before [4, 2, 6, 5, 8, 11, 9, 7, 13, 15]\n",
            "after [4, 2, 6, 5, 8, 9, 11, 7, 13, 15]\n",
            "before [4, 2, 6, 5, 8, 9, 11, 7, 13, 15]\n",
            "after [4, 2, 6, 5, 8, 9, 7, 11, 13, 15]\n",
            "before [4, 2, 6, 5, 8, 9, 7, 11, 13, 15]\n",
            "after [2, 4, 6, 5, 8, 9, 7, 11, 13, 15]\n",
            "before [2, 4, 6, 5, 8, 9, 7, 11, 13, 15]\n",
            "after [2, 4, 5, 6, 8, 9, 7, 11, 13, 15]\n",
            "before [2, 4, 5, 6, 8, 9, 7, 11, 13, 15]\n",
            "after [2, 4, 5, 6, 8, 7, 9, 11, 13, 15]\n",
            "before [2, 4, 5, 6, 8, 7, 9, 11, 13, 15]\n",
            "after [2, 4, 5, 6, 7, 8, 9, 11, 13, 15]\n"
          ]
        },
        {
          "output_type": "execute_result",
          "data": {
            "text/plain": [
              "[2, 4, 5, 6, 7, 8, 9, 11, 13, 15]"
            ]
          },
          "metadata": {},
          "execution_count": 8
        }
      ]
    }
  ]
}