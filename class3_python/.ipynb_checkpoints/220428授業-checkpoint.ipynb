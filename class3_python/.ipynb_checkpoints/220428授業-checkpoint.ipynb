{
 "cells": [
  {
   "cell_type": "markdown",
   "metadata": {
    "colab_type": "text",
    "id": "view-in-github"
   },
   "source": [
    "<a href=\"https://colab.research.google.com/github/katsuya0719/design-engineering-class/blob/main/class3_python/220428%E6%8E%88%E6%A5%AD.ipynb\" target=\"_parent\"><img src=\"https://colab.research.google.com/assets/colab-badge.svg\" alt=\"Open In Colab\"/></a>"
   ]
  },
  {
   "cell_type": "markdown",
   "metadata": {
    "id": "R9fziSCrRAnO"
   },
   "source": [
    "Moodleでもらった質問に対する回答"
   ]
  },
  {
   "cell_type": "markdown",
   "metadata": {
    "id": "sNvws5SrRKT0"
   },
   "source": [
    "Q. my_list = [1,2,3,4,4]\n",
    "と追加した場合に、\"4 in my_list\"による4が含まれているかの検索ではなくて4がいくつ入っているかどうか確認する方法はありますか？  \n",
    "A. 例えば以下のような書き方"
   ]
  },
  {
   "cell_type": "code",
   "execution_count": null,
   "metadata": {
    "id": "uTciGq-ZQs72"
   },
   "outputs": [],
   "source": [
    "def countNumInList(targetList,num):\n",
    "  count = 0\n",
    "  for item in targetList:\n",
    "    if item == num:\n",
    "      count +=1\n",
    "  return count"
   ]
  },
  {
   "cell_type": "code",
   "execution_count": null,
   "metadata": {
    "colab": {
     "base_uri": "https://localhost:8080/"
    },
    "id": "jEAiulmlRFUq",
    "outputId": "4933599e-00dd-4e03-e38c-cb4f8eb27667"
   },
   "outputs": [
    {
     "data": {
      "text/plain": [
       "2"
      ]
     },
     "execution_count": 4,
     "metadata": {},
     "output_type": "execute_result"
    }
   ],
   "source": [
    "countNumInList([1,2,3,4,4],4)"
   ]
  },
  {
   "cell_type": "markdown",
   "metadata": {
    "id": "yXEQY7uSYoQh"
   },
   "source": [
    "Q. pythonの予習課題のバブルソートの問題に挑戦しましたが、うまくいきませんでした。  \n",
    "A. うまくいってるように見えるけど..."
   ]
  },
  {
   "cell_type": "code",
   "execution_count": null,
   "metadata": {
    "id": "PT2NNM33SBdr"
   },
   "outputs": [],
   "source": [
    "def bubble_sort(my_list):\n",
    "    for i in range (len(my_list)-1):\n",
    "        if my_list[i] > my_list[i+1]:\n",
    "            my_list.insert(i,my_list[i+1])\n",
    "            del my_list[i+2]\n",
    "    return my_list"
   ]
  },
  {
   "cell_type": "code",
   "execution_count": null,
   "metadata": {
    "colab": {
     "base_uri": "https://localhost:8080/"
    },
    "id": "USqLXCjiYpvD",
    "outputId": "d2e22d87-5e9f-4f9a-8d20-5ef47bb0e9cf"
   },
   "outputs": [
    {
     "data": {
      "text/plain": [
       "[-3, 1, 2, 3]"
      ]
     },
     "execution_count": 6,
     "metadata": {},
     "output_type": "execute_result"
    }
   ],
   "source": [
    "my_list = [1, -3, 3, 2]"
   ]
  },
  {
   "cell_type": "code",
   "execution_count": null,
   "metadata": {
    "colab": {
     "base_uri": "https://localhost:8080/"
    },
    "id": "OL4ZBg3fZAjG",
    "outputId": "06053f42-8d06-47d4-9a6d-116ce70f40b2"
   },
   "outputs": [
    {
     "data": {
      "text/plain": [
       "[-3, 1, 2, 3]"
      ]
     },
     "execution_count": 7,
     "metadata": {},
     "output_type": "execute_result"
    }
   ],
   "source": [
    "bubble_sort(my_list)"
   ]
  },
  {
   "cell_type": "markdown",
   "metadata": {
    "id": "eyijRlCkZmR1"
   },
   "source": [
    "Q. Python>Bonus exerciseのバブルソートを学習している際に、数値の交換がもう必要のない所を省略する方法として、「break」を使おうとしていました。\n",
    "しかし、いまいち使い方がわからず、参照したサンプルコードではどの数の交換の省略が行われているかがわかりませんでした。  \n",
    "A. 「break」は残っている処理をすっとばして一連の処理を強制終了します。交換する操作の前後にprintを入れてみると、どこで交換が行われているかがわかりやすくなると思います。"
   ]
  },
  {
   "cell_type": "code",
   "execution_count": null,
   "metadata": {
    "colab": {
     "base_uri": "https://localhost:8080/"
    },
    "id": "uq1xSBpRZ3sB",
    "outputId": "c9132372-e0b0-4b32-afdb-59092e3befb7"
   },
   "outputs": [
    {
     "name": "stdout",
     "output_type": "stream",
     "text": [
      "before [6, 15, 4, 2, 8, 5, 11, 9, 7, 13]\n",
      "after [6, 4, 15, 2, 8, 5, 11, 9, 7, 13]\n",
      "before [6, 4, 15, 2, 8, 5, 11, 9, 7, 13]\n",
      "after [6, 4, 2, 15, 8, 5, 11, 9, 7, 13]\n",
      "before [6, 4, 2, 15, 8, 5, 11, 9, 7, 13]\n",
      "after [6, 4, 2, 8, 15, 5, 11, 9, 7, 13]\n",
      "before [6, 4, 2, 8, 15, 5, 11, 9, 7, 13]\n",
      "after [6, 4, 2, 8, 5, 15, 11, 9, 7, 13]\n",
      "before [6, 4, 2, 8, 5, 15, 11, 9, 7, 13]\n",
      "after [6, 4, 2, 8, 5, 11, 15, 9, 7, 13]\n",
      "before [6, 4, 2, 8, 5, 11, 15, 9, 7, 13]\n",
      "after [6, 4, 2, 8, 5, 11, 9, 15, 7, 13]\n",
      "before [6, 4, 2, 8, 5, 11, 9, 15, 7, 13]\n",
      "after [6, 4, 2, 8, 5, 11, 9, 7, 15, 13]\n",
      "before [6, 4, 2, 8, 5, 11, 9, 7, 15, 13]\n",
      "after [6, 4, 2, 8, 5, 11, 9, 7, 13, 15]\n",
      "before [6, 4, 2, 8, 5, 11, 9, 7, 13, 15]\n",
      "after [4, 6, 2, 8, 5, 11, 9, 7, 13, 15]\n",
      "before [4, 6, 2, 8, 5, 11, 9, 7, 13, 15]\n",
      "after [4, 2, 6, 8, 5, 11, 9, 7, 13, 15]\n",
      "before [4, 2, 6, 8, 5, 11, 9, 7, 13, 15]\n",
      "after [4, 2, 6, 5, 8, 11, 9, 7, 13, 15]\n",
      "before [4, 2, 6, 5, 8, 11, 9, 7, 13, 15]\n",
      "after [4, 2, 6, 5, 8, 9, 11, 7, 13, 15]\n",
      "before [4, 2, 6, 5, 8, 9, 11, 7, 13, 15]\n",
      "after [4, 2, 6, 5, 8, 9, 7, 11, 13, 15]\n",
      "before [4, 2, 6, 5, 8, 9, 7, 11, 13, 15]\n",
      "after [2, 4, 6, 5, 8, 9, 7, 11, 13, 15]\n",
      "before [2, 4, 6, 5, 8, 9, 7, 11, 13, 15]\n",
      "after [2, 4, 5, 6, 8, 9, 7, 11, 13, 15]\n",
      "before [2, 4, 5, 6, 8, 9, 7, 11, 13, 15]\n",
      "after [2, 4, 5, 6, 8, 7, 9, 11, 13, 15]\n",
      "before [2, 4, 5, 6, 8, 7, 9, 11, 13, 15]\n",
      "after [2, 4, 5, 6, 7, 8, 9, 11, 13, 15]\n"
     ]
    },
    {
     "data": {
      "text/plain": [
       "[2, 4, 5, 6, 7, 8, 9, 11, 13, 15]"
      ]
     },
     "execution_count": 8,
     "metadata": {},
     "output_type": "execute_result"
    }
   ],
   "source": [
    "def bubble_sort(data):\n",
    "    \"\"\"バブルソート：前から2つずつデータを比較し並べ替える．ただし，交換がもう必要ない所は省略する\"\"\"\n",
    "    change = True #交換の余地ありと仮定\n",
    "\n",
    "    for i in range(len(data)):\n",
    "        if not change: #交換の余地無しで繰り返し脱出\n",
    "            break\n",
    "        change = False #交換の余地無しと仮定\n",
    "        for j in range(len(data) - i -1):\n",
    "            if data[j] > data[j+1]: #左の方が大きい場合\n",
    "                print('before',data)\n",
    "                data[j], data[j+1] = data[j+1], data[j] #前後入れ替え\n",
    "                print('after',data)\n",
    "                change = True #交換の余地ありかも\n",
    "\n",
    "    return data\n",
    "DATA = [6, 15, 4, 2, 8, 5, 11, 9, 7, 13]\n",
    "bubble_sort(DATA)"
   ]
  }
 ],
 "metadata": {
  "colab": {
   "authorship_tag": "ABX9TyPgLQdTO5RhU02ThJQIvmM8",
   "include_colab_link": true,
   "name": "220428授業.ipynb",
   "provenance": []
  },
  "kernelspec": {
   "display_name": "Python 3 (ipykernel)",
   "language": "python",
   "name": "python3"
  },
  "language_info": {
   "codemirror_mode": {
    "name": "ipython",
    "version": 3
   },
   "file_extension": ".py",
   "mimetype": "text/x-python",
   "name": "python",
   "nbconvert_exporter": "python",
   "pygments_lexer": "ipython3",
   "version": "3.9.7"
  }
 },
 "nbformat": 4,
 "nbformat_minor": 1
}
