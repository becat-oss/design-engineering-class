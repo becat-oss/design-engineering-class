{
 "cells": [
  {
   "cell_type": "markdown",
   "metadata": {
    "colab_type": "text",
    "id": "view-in-github"
   },
   "source": [
    "<a href=\"https://colab.research.google.com/github/katsuya0719/design-engineering-class/blob/main/Python_basics.ipynb\" target=\"_parent\"><img src=\"https://colab.research.google.com/assets/colab-badge.svg\" alt=\"Open In Colab\"/></a>"
   ]
  },
  {
   "cell_type": "markdown",
   "metadata": {
    "id": "L78q8nU8N8Hi"
   },
   "source": [
    "**デザインエンジニアリング学特論Ⅰ　3回目授業**   \n",
    "Google colabを使用してPythonの基本的な部分を教えます。  \n",
    "この教材はgoogle検索して出てきたMathieu Blondelさんが作った資料を基に必要な部分を小原が日本語で加筆した資料となります。"
   ]
  },
  {
   "cell_type": "markdown",
   "metadata": {
    "id": "CIvztTLhOmnP"
   },
   "source": [
    "Pythonとは？  \n",
    "https://www.sejuku.net/blog/7720"
   ]
  },
  {
   "cell_type": "markdown",
   "metadata": {
    "id": "bwKWwn_ZUR5j"
   },
   "source": [
    "Google Colabとは？  \n",
    "Jupyter Notebookをgoogleがwebサービスとして提供しているサービスです。  \n",
    "https://jupyter.org/"
   ]
  },
  {
   "cell_type": "markdown",
   "metadata": {
    "id": "uLdBjmEcN5gr"
   },
   "source": [
    "Pythonの基本的な文法3つ\n",
    "\n",
    "---\n",
    "\n",
    "\n",
    "\n",
    "1.   変数の定義\n",
    "2.   関数の定義\n",
    "1.   関数の呼び出し"
   ]
  },
  {
   "cell_type": "markdown",
   "metadata": {
    "id": "R0WjxqkuPG-W"
   },
   "source": [
    "1. 変数の定義"
   ]
  },
  {
   "cell_type": "code",
   "execution_count": null,
   "metadata": {
    "id": "Ln97DQctPKsG"
   },
   "outputs": [],
   "source": [
    "a = 1\n",
    "b = 2 "
   ]
  },
  {
   "cell_type": "code",
   "execution_count": null,
   "metadata": {
    "id": "a73C5r81PMHP"
   },
   "outputs": [],
   "source": [
    "a+b"
   ]
  },
  {
   "cell_type": "markdown",
   "metadata": {
    "id": "-YoqCguKPQqj"
   },
   "source": [
    "2.関数の定義"
   ]
  },
  {
   "cell_type": "code",
   "execution_count": null,
   "metadata": {
    "id": "QTU7JX57PRZs"
   },
   "outputs": [],
   "source": [
    "def add(a,b):\n",
    "  return a + b"
   ]
  },
  {
   "cell_type": "markdown",
   "metadata": {
    "id": "ero9o9NJPhkb"
   },
   "source": [
    "3.関数の呼び出し"
   ]
  },
  {
   "cell_type": "code",
   "execution_count": null,
   "metadata": {
    "id": "sNOoEiyXPe1r"
   },
   "outputs": [],
   "source": [
    "add(2,3)"
   ]
  },
  {
   "cell_type": "code",
   "execution_count": null,
   "metadata": {
    "id": "mMTg_B12Pn5_"
   },
   "outputs": [],
   "source": [
    "add(4,5)"
   ]
  },
  {
   "cell_type": "markdown",
   "metadata": {
    "id": "zbJ2fw29OHAX"
   },
   "source": [
    "Notebook prepared by Mathieu Blondel."
   ]
  },
  {
   "cell_type": "markdown",
   "metadata": {
    "id": "qyLSwlxnJqXX"
   },
   "source": [
    "# Python"
   ]
  },
  {
   "cell_type": "markdown",
   "metadata": {
    "id": "3ltwm91eJyQM"
   },
   "source": [
    "Python is one of the most popular programming languages for machine learning, both in academia and in industry. As such, it is essential to learn this language for anyone interested in machine learning. In this section, we will review Python basics."
   ]
  },
  {
   "cell_type": "markdown",
   "metadata": {
    "id": "5lHfqhRMSEFj"
   },
   "source": [
    "Pythonで扱うデータの型（Pythonは動的型付け言語なので特にデータの型を意識してプログラムする必要はありませんが）でよく使うものについて説明します。"
   ]
  },
  {
   "cell_type": "markdown",
   "metadata": {
    "id": "tLbt6WfITUTc"
   },
   "source": [
    "Number,String,List"
   ]
  },
  {
   "cell_type": "markdown",
   "metadata": {
    "id": "06CYMoJMTCOg"
   },
   "source": [
    "## Numbers"
   ]
  },
  {
   "cell_type": "markdown",
   "metadata": {
    "id": "K82iIlPKTBvn"
   },
   "source": [
    "上の例でもふれましたが、数字の計算はよく使われる処理です"
   ]
  },
  {
   "cell_type": "markdown",
   "metadata": {
    "id": "NF0OqBGSUIPz"
   },
   "source": [
    "足し算"
   ]
  },
  {
   "cell_type": "code",
   "execution_count": 1,
   "metadata": {
    "colab": {
     "base_uri": "https://localhost:8080/"
    },
    "id": "qkWzKtzGUC6V",
    "outputId": "5064c0e8-f8d1-43ed-9492-eb03bb1b8cd7"
   },
   "outputs": [
    {
     "data": {
      "text/plain": [
       "3"
      ]
     },
     "execution_count": 1,
     "metadata": {},
     "output_type": "execute_result"
    }
   ],
   "source": [
    "1+2"
   ]
  },
  {
   "cell_type": "markdown",
   "metadata": {
    "id": "QnxAW1vDULs_"
   },
   "source": [
    "掛け算"
   ]
  },
  {
   "cell_type": "code",
   "execution_count": 2,
   "metadata": {
    "colab": {
     "base_uri": "https://localhost:8080/"
    },
    "id": "qn3H-akOUG7K",
    "outputId": "b576e25a-4bdc-45b9-8fc2-00eb1d9f8122"
   },
   "outputs": [
    {
     "data": {
      "text/plain": [
       "12"
      ]
     },
     "execution_count": 2,
     "metadata": {},
     "output_type": "execute_result"
    }
   ],
   "source": [
    "3*4"
   ]
  },
  {
   "cell_type": "markdown",
   "metadata": {
    "id": "GnoUFAJXU0UK"
   },
   "source": [
    "べき乗計算"
   ]
  },
  {
   "cell_type": "code",
   "execution_count": 3,
   "metadata": {
    "colab": {
     "base_uri": "https://localhost:8080/"
    },
    "id": "sIWmeG5EUzO9",
    "outputId": "724e190d-4527-46fc-e17a-132ec34483c4"
   },
   "outputs": [
    {
     "data": {
      "text/plain": [
       "8"
      ]
     },
     "execution_count": 3,
     "metadata": {},
     "output_type": "execute_result"
    }
   ],
   "source": [
    "2**3"
   ]
  },
  {
   "cell_type": "markdown",
   "metadata": {
    "id": "1c3RLStf7G2I"
   },
   "source": [
    "## Strings"
   ]
  },
  {
   "cell_type": "markdown",
   "metadata": {
    "id": "Jm6hZhgz7KhI"
   },
   "source": [
    "Strings are used to store text. They can delimited using either single quotes or double quotes"
   ]
  },
  {
   "cell_type": "code",
   "execution_count": null,
   "metadata": {
    "id": "cCma6Oj_7T8n"
   },
   "outputs": [],
   "source": [
    "string1 = \"some text\"\n",
    "string2 = 'some other text'"
   ]
  },
  {
   "cell_type": "markdown",
   "metadata": {
    "id": "Irr4xuWu7Znu"
   },
   "source": [
    "Strings behave similarly to lists. As such we can access individual elements in exactly the same way"
   ]
  },
  {
   "cell_type": "code",
   "execution_count": null,
   "metadata": {
    "colab": {
     "base_uri": "https://localhost:8080/",
     "height": 35
    },
    "id": "26_POhLO7iM3",
    "outputId": "fa06d3b9-c683-4b05-bedc-36bc43f57bd4"
   },
   "outputs": [
    {
     "data": {
      "application/vnd.google.colaboratory.intrinsic+json": {
       "type": "string"
      },
      "text/plain": [
       "'e'"
      ]
     },
     "execution_count": 49,
     "metadata": {
      "tags": []
     },
     "output_type": "execute_result"
    }
   ],
   "source": [
    "string1[3]"
   ]
  },
  {
   "cell_type": "markdown",
   "metadata": {
    "id": "oA_UD0JV7oPw"
   },
   "source": [
    "and similarly for slices"
   ]
  },
  {
   "cell_type": "code",
   "execution_count": null,
   "metadata": {
    "colab": {
     "base_uri": "https://localhost:8080/",
     "height": 35
    },
    "id": "dcZFcLqQ7qCe",
    "outputId": "aba6c437-ade3-49da-9e6a-9383eab01fa9"
   },
   "outputs": [
    {
     "data": {
      "application/vnd.google.colaboratory.intrinsic+json": {
       "type": "string"
      },
      "text/plain": [
       "'text'"
      ]
     },
     "execution_count": 53,
     "metadata": {
      "tags": []
     },
     "output_type": "execute_result"
    }
   ],
   "source": [
    "string1[5:]"
   ]
  },
  {
   "cell_type": "markdown",
   "metadata": {
    "id": "hOQ_CIiu76YG"
   },
   "source": [
    "String concatenation is performed using the `+` operator"
   ]
  },
  {
   "cell_type": "code",
   "execution_count": null,
   "metadata": {
    "colab": {
     "base_uri": "https://localhost:8080/",
     "height": 35
    },
    "id": "mxqNMKCY79_W",
    "outputId": "e5695c9e-0703-49b3-9608-b57ca8375ba9"
   },
   "outputs": [
    {
     "data": {
      "application/vnd.google.colaboratory.intrinsic+json": {
       "type": "string"
      },
      "text/plain": [
       "'some text some other text'"
      ]
     },
     "execution_count": 55,
     "metadata": {
      "tags": []
     },
     "output_type": "execute_result"
    }
   ],
   "source": [
    "string1 + \" \" + string2"
   ]
  },
  {
   "cell_type": "markdown",
   "metadata": {
    "id": "d0HyQ-W1VT2s"
   },
   "source": []
  },
  {
   "cell_type": "markdown",
   "metadata": {
    "id": "UhcbBQUiStHG"
   },
   "source": [
    "## Lists => GrasshopperでいうところのData Treeみたいなもの"
   ]
  },
  {
   "cell_type": "markdown",
   "metadata": {
    "id": "CxXrKV7WViaN"
   },
   "source": [
    "![flatten_data_structure.png](data:image/png;base64,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)"
   ]
  },
  {
   "cell_type": "markdown",
   "metadata": {
    "id": "W3S--RsqWfZP"
   },
   "source": [
    "Grasshopperのレクチャで説明したFlattenしたあとの上のようなデータツリーの構造は以下のデータ構造と一緒だと考えてよい。（Grasshopper上ではSurfaceという型なんだけどこの環境にはSurfaceという型はないのでstringを使ってます。ただそこはこの説明のポイントではないのでよしとする）"
   ]
  },
  {
   "cell_type": "code",
   "execution_count": 4,
   "metadata": {
    "colab": {
     "base_uri": "https://localhost:8080/"
    },
    "id": "oZxTb7eBWsgg",
    "outputId": "c40dadb4-cd87-4aff-e06b-c118a3676a89"
   },
   "outputs": [
    {
     "data": {
      "text/plain": [
       "['Untrimmed Surface',\n",
       " 'Untrimmed Surface',\n",
       " 'Untrimmed Surface',\n",
       " 'Untrimmed Surface',\n",
       " 'Untrimmed Surface',\n",
       " 'Untrimmed Surface',\n",
       " 'Untrimmed Surface',\n",
       " 'Untrimmed Surface',\n",
       " 'Untrimmed Surface',\n",
       " 'Untrimmed Surface',\n",
       " 'Untrimmed Surface',\n",
       " 'Untrimmed Surface',\n",
       " 'Untrimmed Surface',\n",
       " 'Untrimmed Surface',\n",
       " 'Untrimmed Surface',\n",
       " 'Untrimmed Surface',\n",
       " 'Untrimmed Surface',\n",
       " 'Untrimmed Surface']"
      ]
     },
     "execution_count": 4,
     "metadata": {},
     "output_type": "execute_result"
    }
   ],
   "source": [
    "[\"Untrimmed Surface\"]*18"
   ]
  },
  {
   "cell_type": "markdown",
   "metadata": {
    "id": "HmHezA5lXyW8"
   },
   "source": [
    "データツリーのどんなデータ構造だってこのListを使えば表現できますよ（僕が知ってる限り）"
   ]
  },
  {
   "cell_type": "markdown",
   "metadata": {
    "id": "bFJj9PJ6XUfg"
   },
   "source": [
    "![nested_data_structure.png](data:image/png;base64,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)"
   ]
  },
  {
   "cell_type": "markdown",
   "metadata": {
    "id": "v21wGxPvYA57"
   },
   "source": [
    "上もListを使って以下のように表現できます"
   ]
  },
  {
   "cell_type": "code",
   "execution_count": 5,
   "metadata": {
    "colab": {
     "base_uri": "https://localhost:8080/"
    },
    "id": "5_nHxqyuYR8j",
    "outputId": "83234dae-2126-4c21-9075-d118ee50f7b6"
   },
   "outputs": [
    {
     "data": {
      "text/plain": [
       "[['UntrimmedSurface',\n",
       "  'UntrimmedSurface',\n",
       "  'UntrimmedSurface',\n",
       "  'UntrimmedSurface',\n",
       "  'UntrimmedSurface',\n",
       "  'UntrimmedSurface'],\n",
       " ['UntrimmedSurface',\n",
       "  'UntrimmedSurface',\n",
       "  'UntrimmedSurface',\n",
       "  'UntrimmedSurface',\n",
       "  'UntrimmedSurface',\n",
       "  'UntrimmedSurface'],\n",
       " ['UntrimmedSurface',\n",
       "  'UntrimmedSurface',\n",
       "  'UntrimmedSurface',\n",
       "  'UntrimmedSurface',\n",
       "  'UntrimmedSurface',\n",
       "  'UntrimmedSurface']]"
      ]
     },
     "execution_count": 5,
     "metadata": {},
     "output_type": "execute_result"
    }
   ],
   "source": [
    "[['UntrimmedSurface']*6,['UntrimmedSurface']*6,['UntrimmedSurface']*6]"
   ]
  },
  {
   "cell_type": "markdown",
   "metadata": {
    "id": "fm9jt8UWYgqz"
   },
   "source": [
    "PythonのListはGrasshopperでいうところのListみたいなもんなんだというイメージを持って実際にListの説明に入りましょう"
   ]
  },
  {
   "cell_type": "markdown",
   "metadata": {
    "id": "RkPn1IjNTCxA"
   },
   "source": [
    "Lists are a container type for ordered sequences of elements. Lists can be initialized empty"
   ]
  },
  {
   "cell_type": "code",
   "execution_count": null,
   "metadata": {
    "id": "OrnV1ySAPtHp"
   },
   "outputs": [],
   "source": [
    "my_list = []"
   ]
  },
  {
   "cell_type": "markdown",
   "metadata": {
    "id": "OwRqyYI9XnPK"
   },
   "source": [
    "or with some initial elements"
   ]
  },
  {
   "cell_type": "code",
   "execution_count": null,
   "metadata": {
    "id": "Uq5YTJ1JXpOX"
   },
   "outputs": [],
   "source": [
    "my_list = [1, 2, 3]"
   ]
  },
  {
   "cell_type": "markdown",
   "metadata": {
    "id": "Hk2WmojJXyyz"
   },
   "source": [
    "Lists have a dynamic size and elements can be added (appended) to them"
   ]
  },
  {
   "cell_type": "code",
   "execution_count": null,
   "metadata": {
    "colab": {
     "base_uri": "https://localhost:8080/",
     "height": 34
    },
    "id": "QFTNqiYiXxAh",
    "outputId": "720d3340-7df7-49b8-c920-964d2e350af5"
   },
   "outputs": [
    {
     "data": {
      "text/plain": [
       "[1, 2, 3, 4]"
      ]
     },
     "execution_count": 9,
     "metadata": {
      "tags": []
     },
     "output_type": "execute_result"
    }
   ],
   "source": [
    "my_list.append(4)\n",
    "my_list"
   ]
  },
  {
   "cell_type": "markdown",
   "metadata": {
    "id": "IUnJuqQ2Yhzw"
   },
   "source": [
    "We can access individual elements of a list (indexing starts from 0)"
   ]
  },
  {
   "cell_type": "code",
   "execution_count": null,
   "metadata": {
    "colab": {
     "base_uri": "https://localhost:8080/",
     "height": 34
    },
    "id": "pyFxyZPVYpG_",
    "outputId": "7efb0bc1-25fb-4849-8d3a-cfa62b94a175"
   },
   "outputs": [
    {
     "data": {
      "text/plain": [
       "3"
      ]
     },
     "execution_count": 10,
     "metadata": {
      "tags": []
     },
     "output_type": "execute_result"
    }
   ],
   "source": [
    "my_list[2]"
   ]
  },
  {
   "cell_type": "markdown",
   "metadata": {
    "id": "hPMrIDYsdgMP"
   },
   "source": [
    "We can access \"slices\" of a list using `my_list[i:j]` where `i` is the start of the slice (again, indexing starts from 0) and `j` the end of the slice. For instance:"
   ]
  },
  {
   "cell_type": "code",
   "execution_count": null,
   "metadata": {
    "colab": {
     "base_uri": "https://localhost:8080/",
     "height": 34
    },
    "id": "Ichf9p0gd7tJ",
    "outputId": "5f4ec085-431e-4e16-aab1-8708f2c931d4"
   },
   "outputs": [
    {
     "data": {
      "text/plain": [
       "[2, 3]"
      ]
     },
     "execution_count": 14,
     "metadata": {
      "tags": []
     },
     "output_type": "execute_result"
    }
   ],
   "source": [
    "my_list[1:3]"
   ]
  },
  {
   "cell_type": "markdown",
   "metadata": {
    "id": "KMbzH4tzQ9rI"
   },
   "source": [
    "Omitting the second index means that the slice shoud run until the end of the list"
   ]
  },
  {
   "cell_type": "code",
   "execution_count": null,
   "metadata": {
    "colab": {
     "base_uri": "https://localhost:8080/",
     "height": 34
    },
    "id": "O7wCthKnREKV",
    "outputId": "5a04ea59-7a54-4b09-a8ee-3cd6171e8c7a"
   },
   "outputs": [
    {
     "data": {
      "text/plain": [
       "[2, 3, 4]"
      ]
     },
     "execution_count": 64,
     "metadata": {
      "tags": []
     },
     "output_type": "execute_result"
    }
   ],
   "source": [
    "my_list[1:]"
   ]
  },
  {
   "cell_type": "markdown",
   "metadata": {
    "id": "C5Aeu7PUebrK"
   },
   "source": [
    "We can check if an element is in the list using `in`"
   ]
  },
  {
   "cell_type": "code",
   "execution_count": null,
   "metadata": {
    "colab": {
     "base_uri": "https://localhost:8080/",
     "height": 34
    },
    "id": "a_P5NCi-efvb",
    "outputId": "5012122e-f02c-4474-ec51-6ef8519e5733"
   },
   "outputs": [
    {
     "data": {
      "text/plain": [
       "False"
      ]
     },
     "execution_count": 15,
     "metadata": {
      "tags": []
     },
     "output_type": "execute_result"
    }
   ],
   "source": [
    "5 in my_list"
   ]
  },
  {
   "cell_type": "markdown",
   "metadata": {
    "id": "LypIsP5gkl10"
   },
   "source": [
    "The length of a list can be obtained using the `len` function"
   ]
  },
  {
   "cell_type": "code",
   "execution_count": null,
   "metadata": {
    "colab": {
     "base_uri": "https://localhost:8080/",
     "height": 34
    },
    "id": "ac0FMsaKkrWc",
    "outputId": "0a7418d2-67a1-419c-e12b-e6ffb3b4b66d"
   },
   "outputs": [
    {
     "data": {
      "text/plain": [
       "4"
      ]
     },
     "execution_count": 24,
     "metadata": {
      "tags": []
     },
     "output_type": "execute_result"
    }
   ],
   "source": [
    "len(my_list)"
   ]
  },
  {
   "cell_type": "markdown",
   "metadata": {
    "id": "7Lox2GZCMdIB"
   },
   "source": [
    "## Conditionals"
   ]
  },
  {
   "cell_type": "markdown",
   "metadata": {
    "id": "nfK0-ce4bvuO"
   },
   "source": [
    "条件分岐の説明をします"
   ]
  },
  {
   "cell_type": "markdown",
   "metadata": {
    "id": "-gXEAWFZfDTT"
   },
   "source": [
    "As their name indicates, conditionals are a way to execute code depending on whether a condition is True or False. As in other languages, Python supports `if` and `else` but `else if` is contracted into `elif`, as the example below demonstrates. "
   ]
  },
  {
   "cell_type": "code",
   "execution_count": null,
   "metadata": {
    "colab": {
     "base_uri": "https://localhost:8080/",
     "height": 34
    },
    "id": "xC_DMZjofoYZ",
    "outputId": "e86016aa-0ebd-4e0f-e559-326f4b2ce644"
   },
   "outputs": [
    {
     "name": "stdout",
     "output_type": "stream",
     "text": [
      "positive\n"
     ]
    }
   ],
   "source": [
    "my_variable = 5\n",
    "if my_variable < 0:\n",
    "  print(\"negative\")\n",
    "elif my_variable == 0:\n",
    "  print(\"null\")\n",
    "else: # my_variable > 0\n",
    "  print(\"positive\")"
   ]
  },
  {
   "cell_type": "markdown",
   "metadata": {
    "id": "Ag0SUokSf9jl"
   },
   "source": [
    "Here `<` and `>` are the strict `less` and `greater than` operators, while `==` is the equality operator (not to be confused with `=`, the variable assignment operator). The operators `<=` and `>=` can be used for less (resp. greater) than or equal comparisons."
   ]
  },
  {
   "cell_type": "markdown",
   "metadata": {
    "id": "qTkQ2F_jy8wz"
   },
   "source": [
    "Contrary to other languages, blocks of code are delimited using indentation. Here, we use 2-space indentation but many programmers also use 4-space indentation. Any one is fine as long as you are consistent throughout your code."
   ]
  },
  {
   "cell_type": "markdown",
   "metadata": {
    "id": "clWaFCzBMfkv"
   },
   "source": [
    "## Loops"
   ]
  },
  {
   "cell_type": "markdown",
   "metadata": {
    "id": "Gua-xS0LbAWC"
   },
   "source": [
    "例えば、ListでふれたSurface全てに対して、ある処理を行いたいとき、Loopを使うことができます"
   ]
  },
  {
   "cell_type": "code",
   "execution_count": 9,
   "metadata": {
    "id": "b8v-WLsBbJut"
   },
   "outputs": [],
   "source": [
    "surfaceList=[\"Untrimmed Surface\"]*18"
   ]
  },
  {
   "cell_type": "code",
   "execution_count": 14,
   "metadata": {
    "id": "tYxXWKIucwFe"
   },
   "outputs": [],
   "source": [
    "newSurfaceList =[]\n",
    "i = 0\n",
    "while i < len(surfaceList):\n",
    "  surfaceWithId = surfaceList[i]+str(i)\n",
    "  newSurfaceList.append(surfaceWithId)\n",
    "  i +=1"
   ]
  },
  {
   "cell_type": "code",
   "execution_count": 15,
   "metadata": {
    "colab": {
     "base_uri": "https://localhost:8080/"
    },
    "id": "hP-elIKGdeYV",
    "outputId": "1df4d35c-549e-4499-8078-f2309eebdaae"
   },
   "outputs": [
    {
     "data": {
      "text/plain": [
       "['Untrimmed Surface0',\n",
       " 'Untrimmed Surface1',\n",
       " 'Untrimmed Surface2',\n",
       " 'Untrimmed Surface3',\n",
       " 'Untrimmed Surface4',\n",
       " 'Untrimmed Surface5',\n",
       " 'Untrimmed Surface6',\n",
       " 'Untrimmed Surface7',\n",
       " 'Untrimmed Surface8',\n",
       " 'Untrimmed Surface9',\n",
       " 'Untrimmed Surface10',\n",
       " 'Untrimmed Surface11',\n",
       " 'Untrimmed Surface12',\n",
       " 'Untrimmed Surface13',\n",
       " 'Untrimmed Surface14',\n",
       " 'Untrimmed Surface15',\n",
       " 'Untrimmed Surface16',\n",
       " 'Untrimmed Surface17']"
      ]
     },
     "execution_count": 15,
     "metadata": {},
     "output_type": "execute_result"
    }
   ],
   "source": [
    "newSurfaceList"
   ]
  },
  {
   "cell_type": "markdown",
   "metadata": {
    "id": "_A5doqhTivWe"
   },
   "source": [
    "Loops are a way to execute a block of code multiple times. There are two main types of loops: while loops and for loops."
   ]
  },
  {
   "cell_type": "markdown",
   "metadata": {
    "id": "YN8lwTxQkGEa"
   },
   "source": [
    "While loop"
   ]
  },
  {
   "cell_type": "code",
   "execution_count": 7,
   "metadata": {
    "colab": {
     "base_uri": "https://localhost:8080/",
     "height": 222
    },
    "id": "7-QXGqgOjsr_",
    "outputId": "6b31c802-22ed-4ecd-8a9d-5beef145358e"
   },
   "outputs": [
    {
     "ename": "NameError",
     "evalue": "ignored",
     "output_type": "error",
     "traceback": [
      "\u001b[0;31m---------------------------------------------------------------------------\u001b[0m",
      "\u001b[0;31mNameError\u001b[0m                                 Traceback (most recent call last)",
      "\u001b[0;32m<ipython-input-7-d3e3ae3ccf48>\u001b[0m in \u001b[0;36m<module>\u001b[0;34m()\u001b[0m\n\u001b[1;32m      1\u001b[0m \u001b[0mi\u001b[0m \u001b[0;34m=\u001b[0m \u001b[0;36m0\u001b[0m\u001b[0;34m\u001b[0m\u001b[0;34m\u001b[0m\u001b[0m\n\u001b[0;32m----> 2\u001b[0;31m \u001b[0;32mwhile\u001b[0m \u001b[0mi\u001b[0m \u001b[0;34m<\u001b[0m \u001b[0mlen\u001b[0m\u001b[0;34m(\u001b[0m\u001b[0mmy_list\u001b[0m\u001b[0;34m)\u001b[0m\u001b[0;34m:\u001b[0m\u001b[0;34m\u001b[0m\u001b[0;34m\u001b[0m\u001b[0m\n\u001b[0m\u001b[1;32m      3\u001b[0m   \u001b[0mprint\u001b[0m\u001b[0;34m(\u001b[0m\u001b[0mmy_list\u001b[0m\u001b[0;34m[\u001b[0m\u001b[0mi\u001b[0m\u001b[0;34m]\u001b[0m\u001b[0;34m)\u001b[0m\u001b[0;34m\u001b[0m\u001b[0;34m\u001b[0m\u001b[0m\n\u001b[1;32m      4\u001b[0m   \u001b[0mi\u001b[0m \u001b[0;34m+=\u001b[0m \u001b[0;36m1\u001b[0m \u001b[0;31m# equivalent to i = i + 1\u001b[0m\u001b[0;34m\u001b[0m\u001b[0;34m\u001b[0m\u001b[0m\n",
      "\u001b[0;31mNameError\u001b[0m: name 'my_list' is not defined"
     ]
    }
   ],
   "source": [
    "i = 0\n",
    "while i < len(my_list):\n",
    "  print(my_list[i])\n",
    "  i += 1 # equivalent to i = i + 1"
   ]
  },
  {
   "cell_type": "markdown",
   "metadata": {
    "id": "8mEI_ocfkSvZ"
   },
   "source": [
    "For loop"
   ]
  },
  {
   "cell_type": "code",
   "execution_count": 8,
   "metadata": {
    "colab": {
     "base_uri": "https://localhost:8080/",
     "height": 188
    },
    "id": "2QObx5mckMcI",
    "outputId": "bf5c83eb-f1aa-4fde-a52e-8699c1c7b189"
   },
   "outputs": [
    {
     "ename": "NameError",
     "evalue": "ignored",
     "output_type": "error",
     "traceback": [
      "\u001b[0;31m---------------------------------------------------------------------------\u001b[0m",
      "\u001b[0;31mNameError\u001b[0m                                 Traceback (most recent call last)",
      "\u001b[0;32m<ipython-input-8-0b08101f915d>\u001b[0m in \u001b[0;36m<module>\u001b[0;34m()\u001b[0m\n\u001b[0;32m----> 1\u001b[0;31m \u001b[0;32mfor\u001b[0m \u001b[0mi\u001b[0m \u001b[0;32min\u001b[0m \u001b[0mrange\u001b[0m\u001b[0;34m(\u001b[0m\u001b[0mlen\u001b[0m\u001b[0;34m(\u001b[0m\u001b[0mmy_list\u001b[0m\u001b[0;34m)\u001b[0m\u001b[0;34m)\u001b[0m\u001b[0;34m:\u001b[0m\u001b[0;34m\u001b[0m\u001b[0;34m\u001b[0m\u001b[0m\n\u001b[0m\u001b[1;32m      2\u001b[0m   \u001b[0mprint\u001b[0m\u001b[0;34m(\u001b[0m\u001b[0mmy_list\u001b[0m\u001b[0;34m[\u001b[0m\u001b[0mi\u001b[0m\u001b[0;34m]\u001b[0m\u001b[0;34m)\u001b[0m\u001b[0;34m\u001b[0m\u001b[0;34m\u001b[0m\u001b[0m\n",
      "\u001b[0;31mNameError\u001b[0m: name 'my_list' is not defined"
     ]
    }
   ],
   "source": [
    "for i in range(len(my_list)):\n",
    "  print(my_list[i])"
   ]
  },
  {
   "cell_type": "markdown",
   "metadata": {
    "id": "XO6qqppikZvm"
   },
   "source": [
    "If the goal is simply to iterate over a list, we can do so directly as follows"
   ]
  },
  {
   "cell_type": "code",
   "execution_count": null,
   "metadata": {
    "id": "PjFKzN6zkeJ7"
   },
   "outputs": [],
   "source": [
    "for element in my_list:\n",
    "  print(element)"
   ]
  },
  {
   "cell_type": "markdown",
   "metadata": {
    "id": "OZL2yy5ycGnd"
   },
   "source": [
    "Loopとif文の合わせ技もよく使うので、if文とloopはしっかり理解しておいてください\n",
    "\n"
   ]
  },
  {
   "cell_type": "markdown",
   "metadata": {
    "id": "Cck4zwYrex02"
   },
   "source": [
    "## Functions"
   ]
  },
  {
   "cell_type": "markdown",
   "metadata": {
    "id": "UARJOjond3hl"
   },
   "source": [
    "ある処理を行うコードを書いたら、それを他の処理にも再利用できることってよくあります。関数として登録しておくと、その処理を再利用することができます。"
   ]
  },
  {
   "cell_type": "markdown",
   "metadata": {
    "id": "n1PbIf_ohxFO"
   },
   "source": [
    "To improve code readability, it is common to separate the code into different blocks, responsible for performing precise actions: functions. A function takes some inputs and process them to return some outputs."
   ]
  },
  {
   "cell_type": "code",
   "execution_count": 16,
   "metadata": {
    "colab": {
     "base_uri": "https://localhost:8080/"
    },
    "id": "cImA09gOhRmx",
    "outputId": "b747f2c3-5e0c-4ee7-c0c3-ab7daa8b27f4"
   },
   "outputs": [
    {
     "data": {
      "text/plain": [
       "36"
      ]
     },
     "execution_count": 16,
     "metadata": {},
     "output_type": "execute_result"
    }
   ],
   "source": [
    "def square(x):\n",
    "  return x ** 2\n",
    "\n",
    "def multiply(a, b):\n",
    "  return a * b\n",
    "\n",
    "# Functions can be composed.\n",
    "square(multiply(3, 2))"
   ]
  },
  {
   "cell_type": "markdown",
   "metadata": {
    "id": "75-5SOk9iYSt"
   },
   "source": [
    "To improve code readability, it is sometimes useful to explicitly name the arguments"
   ]
  },
  {
   "cell_type": "code",
   "execution_count": 17,
   "metadata": {
    "colab": {
     "base_uri": "https://localhost:8080/"
    },
    "id": "wkIUuZHhidI0",
    "outputId": "20d8c5da-a17c-4ee2-91fa-139038c38309"
   },
   "outputs": [
    {
     "data": {
      "text/plain": [
       "36"
      ]
     },
     "execution_count": 17,
     "metadata": {},
     "output_type": "execute_result"
    }
   ],
   "source": [
    "square(multiply(a=3, b=2))"
   ]
  },
  {
   "cell_type": "markdown",
   "metadata": {
    "id": "LkpwbQEVMys2"
   },
   "source": [
    "## Exercises"
   ]
  },
  {
   "cell_type": "markdown",
   "metadata": {
    "id": "ASpVhol9ZXI0"
   },
   "source": [
    "**Exercise 1.** Using a conditional, write the [relu](https://en.wikipedia.org/wiki/Rectifier_(neural_networks)) function defined as follows\n",
    "\n",
    "$\\text{relu}(x) = \\left\\{\n",
    "   \\begin{array}{rl}\n",
    "     x, & \\text{if }  x \\ge 0 \\\\\n",
    "     0, & \\text{otherwise }.\n",
    "   \\end{array}\\right.$"
   ]
  },
  {
   "cell_type": "code",
   "execution_count": null,
   "metadata": {
    "id": "jlgyu65SaUvr"
   },
   "outputs": [],
   "source": [
    "def relu(x):\n",
    "  # Write your function here\n",
    "  return\n",
    "\n",
    "relu(-3)"
   ]
  },
  {
   "cell_type": "markdown",
   "metadata": {
    "id": "Y3so0ceoakIw"
   },
   "source": [
    "**Exercise 2.** Using a foor loop, write a function that computes the [Euclidean norm](https://en.wikipedia.org/wiki/Norm_(mathematics)#Euclidean_norm) of a vector, represented as a list."
   ]
  },
  {
   "cell_type": "code",
   "execution_count": null,
   "metadata": {
    "colab": {
     "base_uri": "https://localhost:8080/",
     "height": 34
    },
    "id": "-IH-BD41bI1u",
    "outputId": "f45bf668-d55b-494d-ecd7-2f421cbacf15"
   },
   "outputs": [
    {
     "data": {
      "text/plain": [
       "5.729746940310715"
      ]
     },
     "execution_count": 13,
     "metadata": {
      "tags": []
     },
     "output_type": "execute_result"
    }
   ],
   "source": [
    "def euclidean_norm(vector):\n",
    "  # Write your function here\n",
    "  return\n",
    "\n",
    "import numpy as np\n",
    "my_vector = [0.5, -1.2, 3.3, 4.5]\n",
    "# The result should be roughly 5.729746940310715\n",
    "euclidean_norm(my_vector)"
   ]
  },
  {
   "cell_type": "markdown",
   "metadata": {
    "id": "SEXIh_e9cW3S"
   },
   "source": [
    "**Exercise 3.** Using a for loop and a conditional, write a function that returns the maximum value in a vector."
   ]
  },
  {
   "cell_type": "code",
   "execution_count": null,
   "metadata": {
    "id": "zd9ntMq0cb2e"
   },
   "outputs": [],
   "source": [
    "def vector_maximum(vector):\n",
    "  # Write your function here\n",
    "  return"
   ]
  },
  {
   "cell_type": "markdown",
   "metadata": {
    "id": "qPAZA4OMc6sT"
   },
   "source": [
    "**Bonus exercise.** if time permits, write a function that sorts a list in ascending order (from smaller to bigger) using the [bubble sort](https://en.wikipedia.org/wiki/Bubble_sort) algorithm."
   ]
  },
  {
   "cell_type": "code",
   "execution_count": null,
   "metadata": {
    "id": "sBokdJO4dGyf"
   },
   "outputs": [],
   "source": [
    "def bubble_sort(my_list):\n",
    "  # Write your function here\n",
    "  return\n",
    "\n",
    "my_list = [1, -3, 3, 2]\n",
    "# Should return [-3, 1, 2, 3]\n",
    "bubble_sort(my_list)"
   ]
  },
  {
   "cell_type": "markdown",
   "metadata": {
    "id": "jDxjvtEEM1vg"
   },
   "source": [
    "## Going further"
   ]
  },
  {
   "cell_type": "markdown",
   "metadata": {
    "id": "wRkmvzf-PdEp"
   },
   "source": [
    "Clearly, it is impossible to cover all the language features in this short introduction. To go further, we recommend the following resources:"
   ]
  },
  {
   "cell_type": "markdown",
   "metadata": {
    "id": "n8nbPoWclRlH"
   },
   "source": [
    "\n",
    "\n",
    "*   List of Python [tutorials](https://wiki.python.org/moin/BeginnersGuide/Programmers)\n",
    "* Four-hour [course](https://www.youtube.com/watch?v=rfscVS0vtbw) on Youtube\n",
    "\n"
   ]
  },
  {
   "cell_type": "markdown",
   "metadata": {
    "id": "EDpARW2CeoKe"
   },
   "source": [
    "NumpyとMatplotlibの説明も興味がある人は見てみてください"
   ]
  },
  {
   "cell_type": "markdown",
   "metadata": {
    "id": "6X4WJo3iM6m9"
   },
   "source": [
    "# NumPy"
   ]
  },
  {
   "cell_type": "markdown",
   "metadata": {
    "id": "_H3bNbLloXCY"
   },
   "source": [
    "NumPy is a popular library for storing arrays of numbers and performing computations on them. Not only this enables to write often more succint code, this also makes the code faster, since most NumPy routines are implemented in C for speed."
   ]
  },
  {
   "cell_type": "markdown",
   "metadata": {
    "id": "M7tI3XLhqwSX"
   },
   "source": [
    "To use NumPy in your program, you need to import it as follows"
   ]
  },
  {
   "cell_type": "code",
   "execution_count": null,
   "metadata": {
    "id": "phSPPyfyq2gX"
   },
   "outputs": [],
   "source": [
    "import numpy as np"
   ]
  },
  {
   "cell_type": "markdown",
   "metadata": {
    "id": "9secCfFLNHEE"
   },
   "source": [
    "## Array creation\n",
    "\n"
   ]
  },
  {
   "cell_type": "markdown",
   "metadata": {
    "id": "LSS2wEnkq97n"
   },
   "source": [
    "NumPy arrays can be created from Python lists"
   ]
  },
  {
   "cell_type": "code",
   "execution_count": null,
   "metadata": {
    "colab": {
     "base_uri": "https://localhost:8080/",
     "height": 34
    },
    "id": "Hfeg286yrLvJ",
    "outputId": "f498bafc-0373-4258-f479-e27716b193c1"
   },
   "outputs": [
    {
     "data": {
      "text/plain": [
       "array([1, 2, 3])"
      ]
     },
     "execution_count": 27,
     "metadata": {
      "tags": []
     },
     "output_type": "execute_result"
    }
   ],
   "source": [
    "my_array = np.array([1, 2, 3])\n",
    "my_array"
   ]
  },
  {
   "cell_type": "markdown",
   "metadata": {
    "id": "Sy2EvrxFriAG"
   },
   "source": [
    "NumPy supports array of arbitrary dimension. For example, we can create two-dimensional arrays (e.g. to store a matrix) as follows"
   ]
  },
  {
   "cell_type": "code",
   "execution_count": null,
   "metadata": {
    "colab": {
     "base_uri": "https://localhost:8080/",
     "height": 51
    },
    "id": "wM-GYVMsrzNs",
    "outputId": "3d524d20-cf2c-4d3c-ba08-4552be3a46d8"
   },
   "outputs": [
    {
     "data": {
      "text/plain": [
       "array([[1, 2, 3],\n",
       "       [4, 5, 6]])"
      ]
     },
     "execution_count": 28,
     "metadata": {
      "tags": []
     },
     "output_type": "execute_result"
    }
   ],
   "source": [
    "my_2d_array = np.array([[1, 2, 3], [4, 5, 6]])\n",
    "my_2d_array"
   ]
  },
  {
   "cell_type": "markdown",
   "metadata": {
    "id": "-kZMzYsAsVAc"
   },
   "source": [
    "We can access individual elements of a 2d-array using two indices"
   ]
  },
  {
   "cell_type": "code",
   "execution_count": null,
   "metadata": {
    "colab": {
     "base_uri": "https://localhost:8080/",
     "height": 34
    },
    "id": "4q8X86BbscPd",
    "outputId": "3cefe32a-690a-4744-fad9-9c3edd763cd6"
   },
   "outputs": [
    {
     "data": {
      "text/plain": [
       "6"
      ]
     },
     "execution_count": 30,
     "metadata": {
      "tags": []
     },
     "output_type": "execute_result"
    }
   ],
   "source": [
    "my_2d_array[1, 2]"
   ]
  },
  {
   "cell_type": "markdown",
   "metadata": {
    "id": "OfVIKyxkTh0p"
   },
   "source": [
    "We can also access rows"
   ]
  },
  {
   "cell_type": "code",
   "execution_count": null,
   "metadata": {
    "colab": {
     "base_uri": "https://localhost:8080/",
     "height": 34
    },
    "id": "CrKnDAtyTlYe",
    "outputId": "14060c28-8ee7-48f5-f0ca-bdcff12cc421"
   },
   "outputs": [
    {
     "data": {
      "text/plain": [
       "array([4, 5, 6])"
      ]
     },
     "execution_count": 66,
     "metadata": {
      "tags": []
     },
     "output_type": "execute_result"
    }
   ],
   "source": [
    "my_2d_array[1]"
   ]
  },
  {
   "cell_type": "markdown",
   "metadata": {
    "id": "hskLBCp9ToCG"
   },
   "source": [
    "and columns"
   ]
  },
  {
   "cell_type": "code",
   "execution_count": null,
   "metadata": {
    "colab": {
     "base_uri": "https://localhost:8080/",
     "height": 34
    },
    "id": "MOOFsLHhTozX",
    "outputId": "8802a59a-0812-40a4-f930-ab2a3302bf46"
   },
   "outputs": [
    {
     "data": {
      "text/plain": [
       "array([3, 6])"
      ]
     },
     "execution_count": 67,
     "metadata": {
      "tags": []
     },
     "output_type": "execute_result"
    }
   ],
   "source": [
    "my_2d_array[:, 2]"
   ]
  },
  {
   "cell_type": "markdown",
   "metadata": {
    "id": "keWK_5PHr9Q2"
   },
   "source": [
    "Arrays have a `shape` attribute"
   ]
  },
  {
   "cell_type": "code",
   "execution_count": null,
   "metadata": {
    "colab": {
     "base_uri": "https://localhost:8080/",
     "height": 51
    },
    "id": "5QIo7l1Yr8m7",
    "outputId": "357d4218-541d-4c7f-8bcf-b3f4523b1fa3"
   },
   "outputs": [
    {
     "name": "stdout",
     "output_type": "stream",
     "text": [
      "(3,)\n",
      "(2, 3)\n"
     ]
    }
   ],
   "source": [
    "print(my_array.shape)\n",
    "print(my_2d_array.shape)"
   ]
  },
  {
   "cell_type": "markdown",
   "metadata": {
    "id": "LmX0EDWVsoDY"
   },
   "source": [
    "Contrary to Python lists, NumPy arrays must have a type and all elements of the array must have the same type."
   ]
  },
  {
   "cell_type": "code",
   "execution_count": null,
   "metadata": {
    "colab": {
     "base_uri": "https://localhost:8080/",
     "height": 34
    },
    "id": "FZjOowkls57o",
    "outputId": "abb3edab-a903-40c8-f88a-1125fc6d4dbf"
   },
   "outputs": [
    {
     "data": {
      "text/plain": [
       "dtype('int64')"
      ]
     },
     "execution_count": 31,
     "metadata": {
      "tags": []
     },
     "output_type": "execute_result"
    }
   ],
   "source": [
    "my_array.dtype"
   ]
  },
  {
   "cell_type": "markdown",
   "metadata": {
    "id": "i5AvLdf7tGnZ"
   },
   "source": [
    "The main types are `int32` (32-bit integers), `int64` (64-bit integers), `float32` (32-bit real values) and `float64` (64-bit real values)."
   ]
  },
  {
   "cell_type": "markdown",
   "metadata": {
    "id": "w8ym2qZCt9Nm"
   },
   "source": [
    "The `dtype` can be specified when creating the array"
   ]
  },
  {
   "cell_type": "code",
   "execution_count": null,
   "metadata": {
    "colab": {
     "base_uri": "https://localhost:8080/",
     "height": 34
    },
    "id": "gXpM_FqruCVv",
    "outputId": "20d8b981-56ed-4458-d9d8-2f9fb5fb2b58"
   },
   "outputs": [
    {
     "data": {
      "text/plain": [
       "dtype('float64')"
      ]
     },
     "execution_count": 32,
     "metadata": {
      "tags": []
     },
     "output_type": "execute_result"
    }
   ],
   "source": [
    "my_array = np.array([1, 2, 3], dtype=np.float64)\n",
    "my_array.dtype"
   ]
  },
  {
   "cell_type": "markdown",
   "metadata": {
    "id": "WueaRIONuTdS"
   },
   "source": [
    "We can create arrays of all zeros using"
   ]
  },
  {
   "cell_type": "code",
   "execution_count": null,
   "metadata": {
    "colab": {
     "base_uri": "https://localhost:8080/",
     "height": 51
    },
    "id": "jbD8N1UauK8r",
    "outputId": "4a352f81-f0e8-4bc1-a651-760436c7d213"
   },
   "outputs": [
    {
     "data": {
      "text/plain": [
       "array([[0., 0., 0.],\n",
       "       [0., 0., 0.]])"
      ]
     },
     "execution_count": 33,
     "metadata": {
      "tags": []
     },
     "output_type": "execute_result"
    }
   ],
   "source": [
    "zero_array = np.zeros((2, 3))\n",
    "zero_array"
   ]
  },
  {
   "cell_type": "markdown",
   "metadata": {
    "id": "vn5go6qoudo4"
   },
   "source": [
    "and similarly for all ones using `ones` instead of `zeros`."
   ]
  },
  {
   "cell_type": "markdown",
   "metadata": {
    "id": "1kCRlhLJuvZ6"
   },
   "source": [
    "We can create a range of values using"
   ]
  },
  {
   "cell_type": "code",
   "execution_count": null,
   "metadata": {
    "colab": {
     "base_uri": "https://localhost:8080/",
     "height": 34
    },
    "id": "EcQXDeEmuxpO",
    "outputId": "5a6fac79-26e3-4012-d5f4-82844372dc58"
   },
   "outputs": [
    {
     "data": {
      "text/plain": [
       "array([0, 1, 2, 3, 4])"
      ]
     },
     "execution_count": 34,
     "metadata": {
      "tags": []
     },
     "output_type": "execute_result"
    }
   ],
   "source": [
    "np.arange(5)"
   ]
  },
  {
   "cell_type": "markdown",
   "metadata": {
    "id": "ZvJECk6Iu3uF"
   },
   "source": [
    "or specifying the starting point"
   ]
  },
  {
   "cell_type": "code",
   "execution_count": null,
   "metadata": {
    "colab": {
     "base_uri": "https://localhost:8080/",
     "height": 34
    },
    "id": "Pk3UzL3du_f8",
    "outputId": "1fd3f3fa-63ba-4a26-9274-011574bebbd2"
   },
   "outputs": [
    {
     "data": {
      "text/plain": [
       "array([3, 4])"
      ]
     },
     "execution_count": 35,
     "metadata": {
      "tags": []
     },
     "output_type": "execute_result"
    }
   ],
   "source": [
    "np.arange(3, 5)"
   ]
  },
  {
   "cell_type": "markdown",
   "metadata": {
    "id": "f1JtqFSivJKG"
   },
   "source": [
    "Another useful routine is `linspace` for creating linearly spaced values in an interval. For instance, to create 10 values in `[0, 1]`, we can use"
   ]
  },
  {
   "cell_type": "code",
   "execution_count": null,
   "metadata": {
    "colab": {
     "base_uri": "https://localhost:8080/",
     "height": 51
    },
    "id": "udHHjGAHvOQM",
    "outputId": "473cec27-ac56-4dc9-984a-c1e340255a51"
   },
   "outputs": [
    {
     "data": {
      "text/plain": [
       "array([0.        , 0.11111111, 0.22222222, 0.33333333, 0.44444444,\n",
       "       0.55555556, 0.66666667, 0.77777778, 0.88888889, 1.        ])"
      ]
     },
     "execution_count": 36,
     "metadata": {
      "tags": []
     },
     "output_type": "execute_result"
    }
   ],
   "source": [
    "np.linspace(0, 1, 10)"
   ]
  },
  {
   "cell_type": "markdown",
   "metadata": {
    "id": "WbcxAKobvgUT"
   },
   "source": [
    "Another important operation is `reshape`, for changing the shape of an array"
   ]
  },
  {
   "cell_type": "code",
   "execution_count": null,
   "metadata": {
    "colab": {
     "base_uri": "https://localhost:8080/",
     "height": 68
    },
    "id": "4FPzTuDlvlLO",
    "outputId": "338648ec-11e3-436f-d0e4-6745f9cb30d3"
   },
   "outputs": [
    {
     "data": {
      "text/plain": [
       "array([[1, 2],\n",
       "       [3, 4],\n",
       "       [5, 6]])"
      ]
     },
     "execution_count": 37,
     "metadata": {
      "tags": []
     },
     "output_type": "execute_result"
    }
   ],
   "source": [
    "my_array = np.array([1, 2, 3, 4, 5, 6])\n",
    "my_array.reshape(3, 2)"
   ]
  },
  {
   "cell_type": "markdown",
   "metadata": {
    "id": "G-QR80_g3N9Y"
   },
   "source": [
    "Play with these operations and make sure you understand them well."
   ]
  },
  {
   "cell_type": "markdown",
   "metadata": {
    "id": "f9B0iCBlmfeY"
   },
   "source": [
    "## Basic operations"
   ]
  },
  {
   "cell_type": "markdown",
   "metadata": {
    "id": "elQGgkqDxKLV"
   },
   "source": [
    "In NumPy, we express computations directly over arrays. This makes the code much more succint."
   ]
  },
  {
   "cell_type": "markdown",
   "metadata": {
    "id": "hkCU1T8ixghX"
   },
   "source": [
    "Arithmetic operations can be performed directly over arrays. For instance, assuming two arrays have a compatible shape, we can add them as follows"
   ]
  },
  {
   "cell_type": "code",
   "execution_count": null,
   "metadata": {
    "colab": {
     "base_uri": "https://localhost:8080/",
     "height": 34
    },
    "id": "4AoiRq42x5mI",
    "outputId": "d9706493-95f8-43d5-af90-21a53c13cac5"
   },
   "outputs": [
    {
     "data": {
      "text/plain": [
       "array([5, 7, 9])"
      ]
     },
     "execution_count": 38,
     "metadata": {
      "tags": []
     },
     "output_type": "execute_result"
    }
   ],
   "source": [
    "array_a = np.array([1, 2, 3])\n",
    "array_b = np.array([4, 5, 6])\n",
    "array_a + array_b"
   ]
  },
  {
   "cell_type": "markdown",
   "metadata": {
    "id": "SyPqME2EyD4x"
   },
   "source": [
    "Compare this with the equivalent computation using a for loop"
   ]
  },
  {
   "cell_type": "code",
   "execution_count": null,
   "metadata": {
    "colab": {
     "base_uri": "https://localhost:8080/",
     "height": 34
    },
    "id": "HxRFA_U2yfI-",
    "outputId": "cbd77fed-8b67-4119-aeea-7a71d92b63b6"
   },
   "outputs": [
    {
     "data": {
      "text/plain": [
       "array([5, 7, 9])"
      ]
     },
     "execution_count": 65,
     "metadata": {
      "tags": []
     },
     "output_type": "execute_result"
    }
   ],
   "source": [
    "array_out = np.zeros_like(array_a)\n",
    "for i in range(len(array_a)):\n",
    "  array_out[i] = array_a[i] + array_b[i]\n",
    "array_out"
   ]
  },
  {
   "cell_type": "markdown",
   "metadata": {
    "id": "i2a-apX-zlPN"
   },
   "source": [
    "Not only this code is more verbose, it will also run much more slowly."
   ]
  },
  {
   "cell_type": "markdown",
   "metadata": {
    "id": "Qdn8MwpR0wX_"
   },
   "source": [
    "In NumPy, functions that operates on arrays in an element-wise fashion are called [universal functions](https://numpy.org/doc/stable/reference/ufuncs.html). For instance, this is the case of `np.sin`"
   ]
  },
  {
   "cell_type": "code",
   "execution_count": null,
   "metadata": {
    "colab": {
     "base_uri": "https://localhost:8080/",
     "height": 34
    },
    "id": "JoanjiMu1BH5",
    "outputId": "e6b8be44-7e66-4a3f-eb57-c767c7f8b2f3"
   },
   "outputs": [
    {
     "data": {
      "text/plain": [
       "array([0.84147098, 0.90929743, 0.14112001])"
      ]
     },
     "execution_count": 41,
     "metadata": {
      "tags": []
     },
     "output_type": "execute_result"
    }
   ],
   "source": [
    "np.sin(array_a)"
   ]
  },
  {
   "cell_type": "markdown",
   "metadata": {
    "id": "jHljrPXg5h8W"
   },
   "source": [
    "Vector inner product can be performed using `np.dot`"
   ]
  },
  {
   "cell_type": "code",
   "execution_count": null,
   "metadata": {
    "colab": {
     "base_uri": "https://localhost:8080/",
     "height": 34
    },
    "id": "TphR8oIx5ob9",
    "outputId": "a84a8966-6b99-4a48-b422-caea4dd0ffc6"
   },
   "outputs": [
    {
     "data": {
      "text/plain": [
       "32"
      ]
     },
     "execution_count": 44,
     "metadata": {
      "tags": []
     },
     "output_type": "execute_result"
    }
   ],
   "source": [
    "np.dot(array_a, array_b)"
   ]
  },
  {
   "cell_type": "markdown",
   "metadata": {
    "id": "lHInOiSW50OR"
   },
   "source": [
    "When the two arguments to `np.dot` are both 2d arrays, `np.dot` becomes matrix multiplication"
   ]
  },
  {
   "cell_type": "code",
   "execution_count": null,
   "metadata": {
    "colab": {
     "base_uri": "https://localhost:8080/",
     "height": 102
    },
    "id": "QRbpbhPP6Up0",
    "outputId": "d020a4d4-2532-495f-fd28-766fc92b3318"
   },
   "outputs": [
    {
     "data": {
      "text/plain": [
       "array([[-0.36045702, -0.81071381, -0.19270751,  1.68942764],\n",
       "       [-1.37444349, -3.05245084, -0.52466652, -0.02343348],\n",
       "       [-1.43277431, -2.95828896, -0.4035378 , -0.50852563],\n",
       "       [-0.8569399 , -0.99003545,  0.17051909,  1.02933425],\n",
       "       [-0.47198448, -1.52564526, -0.41890404, -1.29330023]])"
      ]
     },
     "execution_count": 45,
     "metadata": {
      "tags": []
     },
     "output_type": "execute_result"
    }
   ],
   "source": [
    "array_A = np.random.rand(5, 3)\n",
    "array_B = np.random.randn(3, 4)\n",
    "np.dot(array_A, array_B)"
   ]
  },
  {
   "cell_type": "markdown",
   "metadata": {
    "id": "odVawD9m6gwv"
   },
   "source": [
    "Matrix transpose can be done using `.transpose()` or `.T` for short"
   ]
  },
  {
   "cell_type": "code",
   "execution_count": null,
   "metadata": {
    "colab": {
     "base_uri": "https://localhost:8080/",
     "height": 68
    },
    "id": "gvPe_JAO6mvF",
    "outputId": "4952000d-c255-4cd0-8b12-51bcb59ba53b"
   },
   "outputs": [
    {
     "data": {
      "text/plain": [
       "array([[0.83246658, 0.86545167, 0.62386601, 0.473339  , 0.06991272],\n",
       "       [0.02185012, 0.93435538, 0.93170156, 0.0036374 , 0.7230155 ],\n",
       "       [0.08128956, 0.83778882, 0.96709345, 0.66291745, 0.2734715 ]])"
      ]
     },
     "execution_count": 46,
     "metadata": {
      "tags": []
     },
     "output_type": "execute_result"
    }
   ],
   "source": [
    "array_A.T"
   ]
  },
  {
   "cell_type": "markdown",
   "metadata": {
    "id": "JlWt3oFnE_E-"
   },
   "source": [
    "## Slicing and masking"
   ]
  },
  {
   "cell_type": "markdown",
   "metadata": {
    "id": "e4aKKe7bFA65"
   },
   "source": [
    "Like Python lists, NumPy arrays support slicing"
   ]
  },
  {
   "cell_type": "code",
   "execution_count": null,
   "metadata": {
    "colab": {
     "base_uri": "https://localhost:8080/",
     "height": 34
    },
    "id": "0kPhv2xcF1TP",
    "outputId": "a7315cac-0495-44da-e497-63aa677b8d47"
   },
   "outputs": [
    {
     "data": {
      "text/plain": [
       "array([5, 6, 7, 8, 9])"
      ]
     },
     "execution_count": 61,
     "metadata": {
      "tags": []
     },
     "output_type": "execute_result"
    }
   ],
   "source": [
    "np.arange(10)[5:]"
   ]
  },
  {
   "cell_type": "markdown",
   "metadata": {
    "id": "ITu2Wy4-GB2G"
   },
   "source": [
    "We can also select only certain elements from the array"
   ]
  },
  {
   "cell_type": "code",
   "execution_count": null,
   "metadata": {
    "colab": {
     "base_uri": "https://localhost:8080/",
     "height": 34
    },
    "id": "8tlZzTB6GEyw",
    "outputId": "a2918cd3-f33b-48de-cd18-a3a8b1fb2fab"
   },
   "outputs": [
    {
     "data": {
      "text/plain": [
       "array([5, 6, 7, 8, 9])"
      ]
     },
     "execution_count": 62,
     "metadata": {
      "tags": []
     },
     "output_type": "execute_result"
    }
   ],
   "source": [
    "x = np.arange(10)\n",
    "mask = x >= 5\n",
    "x[mask]"
   ]
  },
  {
   "cell_type": "markdown",
   "metadata": {
    "id": "NlGForCimjBL"
   },
   "source": [
    "## Exercises"
   ]
  },
  {
   "cell_type": "markdown",
   "metadata": {
    "id": "Ur1UlSFPTu6O"
   },
   "source": [
    "**Exercise 1.** Create a 3d array of shape (2, 2, 2), containing 8 values. Access individual elements and slices."
   ]
  },
  {
   "cell_type": "code",
   "execution_count": null,
   "metadata": {
    "id": "v1ed4-vLUWXQ"
   },
   "outputs": [],
   "source": []
  },
  {
   "cell_type": "markdown",
   "metadata": {
    "id": "s_ksfCDJzyxI"
   },
   "source": [
    "**Exercise 2.** Rewrite the relu function (see Python section) using [np.maximum](https://numpy.org/doc/stable/reference/generated/numpy.maximum.html). Check that it works on both a single value and on an array of values."
   ]
  },
  {
   "cell_type": "code",
   "execution_count": null,
   "metadata": {
    "id": "QtSTxH5Dz6f8"
   },
   "outputs": [],
   "source": [
    "def relu_numpy(x):\n",
    "  return\n",
    "\n",
    "relu_numpy(np.array([1, -3, 2.5]))"
   ]
  },
  {
   "cell_type": "markdown",
   "metadata": {
    "id": "wggUjpyRz7fb"
   },
   "source": [
    "**Exercise 3.** Rewrite the Euclidean norm of a vector (1d array) using NumPy (without for loop)"
   ]
  },
  {
   "cell_type": "code",
   "execution_count": null,
   "metadata": {
    "id": "p5BLcHOD0Bhy"
   },
   "outputs": [],
   "source": [
    "def euclidean_norm_numpy(x):\n",
    "  return\n",
    "\n",
    "my_vector = np.array([0.5, -1.2, 3.3, 4.5])\n",
    "euclidean_norm_numpy(my_vector)"
   ]
  },
  {
   "cell_type": "markdown",
   "metadata": {
    "id": "01IteVJ60Il2"
   },
   "source": [
    "**Exercise 4.** Write a function that computes the Euclidean norms of a matrix (2d array) in a row-wise fashion. Hint: use the `axis` argument of [np.sum](https://numpy.org/doc/stable/reference/generated/numpy.sum.html)."
   ]
  },
  {
   "cell_type": "code",
   "execution_count": null,
   "metadata": {
    "id": "at5lWRNM0SVG"
   },
   "outputs": [],
   "source": [
    "def euclidean_norm_2d(X):\n",
    "  return\n",
    "\n",
    "my_matrix = np.array([[0.5, -1.2, 4.5],\n",
    "                      [-3.2, 1.9, 2.7]])\n",
    "# Should return an array of size 2.\n",
    "euclidean_norm_2d(my_matrix)"
   ]
  },
  {
   "cell_type": "markdown",
   "metadata": {
    "id": "yd1ZoByo436x"
   },
   "source": [
    "**Exercise 5.** Compute the mean value of the features in the [iris dataset](https://scikit-learn.org/stable/modules/generated/sklearn.datasets.load_iris.html). Hint: use the `axis` argument on [np.mean](https://numpy.org/doc/stable/reference/generated/numpy.mean.html)."
   ]
  },
  {
   "cell_type": "code",
   "execution_count": null,
   "metadata": {
    "colab": {
     "base_uri": "https://localhost:8080/",
     "height": 34
    },
    "id": "fYFVobkP5JK6",
    "outputId": "91504ff7-ad59-4eb7-f940-cb2e068e1b6f"
   },
   "outputs": [
    {
     "data": {
      "text/plain": [
       "(150, 4)"
      ]
     },
     "execution_count": 43,
     "metadata": {
      "tags": []
     },
     "output_type": "execute_result"
    }
   ],
   "source": [
    "from sklearn.datasets import load_iris\n",
    "X, y = load_iris(return_X_y=True)\n",
    "\n",
    "# Result should be an array of size 4."
   ]
  },
  {
   "cell_type": "markdown",
   "metadata": {
    "id": "1FDs9zX6mpoX"
   },
   "source": [
    "## Going further"
   ]
  },
  {
   "cell_type": "markdown",
   "metadata": {
    "id": "hFP61Iztmr9Q"
   },
   "source": [
    "* NumPy [reference](https://numpy.org/doc/stable/reference/)\n",
    "* SciPy [lectures](https://scipy-lectures.org/)\n",
    "*   One-hour [tutorial](https://www.youtube.com/watch?v=QUT1VHiLmmI) on Youtube \n",
    "\n"
   ]
  },
  {
   "cell_type": "markdown",
   "metadata": {
    "id": "7Jt6T3kJ8I2T"
   },
   "source": [
    "# Matplotlib"
   ]
  },
  {
   "cell_type": "markdown",
   "metadata": {
    "id": "kQX8TiEOALkQ"
   },
   "source": [
    "## Basic plots"
   ]
  },
  {
   "cell_type": "markdown",
   "metadata": {
    "id": "REYwc9Va8UTg"
   },
   "source": [
    "Matplotlib is a plotting library for Python."
   ]
  },
  {
   "cell_type": "markdown",
   "metadata": {
    "id": "Eom7t-m6-Uzb"
   },
   "source": [
    "We start with a rudimentary plotting example."
   ]
  },
  {
   "cell_type": "code",
   "execution_count": 18,
   "metadata": {
    "colab": {
     "base_uri": "https://localhost:8080/",
     "height": 240
    },
    "id": "g21e5Ncm927z",
    "outputId": "04eb95f0-4fd4-4e88-a32e-d758915040d8"
   },
   "outputs": [
    {
     "ename": "NameError",
     "evalue": "ignored",
     "output_type": "error",
     "traceback": [
      "\u001b[0;31m---------------------------------------------------------------------------\u001b[0m",
      "\u001b[0;31mNameError\u001b[0m                                 Traceback (most recent call last)",
      "\u001b[0;32m<ipython-input-18-f0f70c6edd8a>\u001b[0m in \u001b[0;36m<module>\u001b[0;34m()\u001b[0m\n\u001b[1;32m      1\u001b[0m \u001b[0;32mfrom\u001b[0m \u001b[0mmatplotlib\u001b[0m \u001b[0;32mimport\u001b[0m \u001b[0mpyplot\u001b[0m \u001b[0;32mas\u001b[0m \u001b[0mplt\u001b[0m\u001b[0;34m\u001b[0m\u001b[0;34m\u001b[0m\u001b[0m\n\u001b[1;32m      2\u001b[0m \u001b[0;34m\u001b[0m\u001b[0m\n\u001b[0;32m----> 3\u001b[0;31m \u001b[0mx_values\u001b[0m \u001b[0;34m=\u001b[0m \u001b[0mnp\u001b[0m\u001b[0;34m.\u001b[0m\u001b[0mlinspace\u001b[0m\u001b[0;34m(\u001b[0m\u001b[0;34m-\u001b[0m\u001b[0;36m3\u001b[0m\u001b[0;34m,\u001b[0m \u001b[0;36m3\u001b[0m\u001b[0;34m,\u001b[0m \u001b[0;36m100\u001b[0m\u001b[0;34m)\u001b[0m\u001b[0;34m\u001b[0m\u001b[0;34m\u001b[0m\u001b[0m\n\u001b[0m\u001b[1;32m      4\u001b[0m \u001b[0;34m\u001b[0m\u001b[0m\n\u001b[1;32m      5\u001b[0m \u001b[0mplt\u001b[0m\u001b[0;34m.\u001b[0m\u001b[0mfigure\u001b[0m\u001b[0;34m(\u001b[0m\u001b[0;34m)\u001b[0m\u001b[0;34m\u001b[0m\u001b[0;34m\u001b[0m\u001b[0m\n",
      "\u001b[0;31mNameError\u001b[0m: name 'np' is not defined"
     ]
    }
   ],
   "source": [
    "from matplotlib import pyplot as plt\n",
    "\n",
    "x_values = np.linspace(-3, 3, 100)\n",
    "\n",
    "plt.figure()\n",
    "plt.plot(x_values, np.sin(x_values), label=\"Sinusoid\")\n",
    "plt.xlabel(\"x\")\n",
    "plt.ylabel(\"sin(x)\")\n",
    "plt.title(\"Matplotlib example\")\n",
    "plt.legend(loc=\"upper left\")\n",
    "plt.show()"
   ]
  },
  {
   "cell_type": "markdown",
   "metadata": {
    "id": "ltvlLwXF-eAH"
   },
   "source": [
    "We continue with a rudimentary scatter plot example. This example displays samples from the [iris dataset](https://scikit-learn.org/stable/modules/generated/sklearn.datasets.load_iris.html) using the first two features. Colors indicate class membership (there are 3 classes)."
   ]
  },
  {
   "cell_type": "code",
   "execution_count": null,
   "metadata": {
    "colab": {
     "base_uri": "https://localhost:8080/",
     "height": 268
    },
    "id": "sEzcJAmy-hbK",
    "outputId": "7d965d22-d0b6-41d5-9f80-f5d6a7d7f93f"
   },
   "outputs": [
    {
     "data": {
      "image/png": "[encoded data removed]",
      "text/plain": [
       "<Figure size 432x288 with 1 Axes>"
      ]
     },
     "metadata": {
      "needs_background": "light",
      "tags": []
     },
     "output_type": "display_data"
    }
   ],
   "source": [
    "from sklearn.datasets import load_iris\n",
    "X, y = load_iris(return_X_y=True)\n",
    "\n",
    "X_class0 = X[y == 0]\n",
    "X_class1 = X[y == 1]\n",
    "X_class2 = X[y == 2]\n",
    "\n",
    "plt.figure()\n",
    "plt.scatter(X_class0[:, 0], X_class0[:, 1], label=\"Class 0\", color=\"C0\")\n",
    "plt.scatter(X_class1[:, 0], X_class1[:, 1], label=\"Class 1\", color=\"C1\")\n",
    "plt.scatter(X_class2[:, 0], X_class2[:, 1], label=\"Class 2\", color=\"C2\")\n",
    "plt.show()"
   ]
  },
  {
   "cell_type": "markdown",
   "metadata": {
    "id": "5vjln9qwAc3M"
   },
   "source": [
    "We see that samples belonging to class 0 can be linearly separated from the rest using only the first two features."
   ]
  },
  {
   "cell_type": "markdown",
   "metadata": {
    "id": "uVWuIUs2AQ5a"
   },
   "source": [
    "## Exercises\n",
    "\n"
   ]
  },
  {
   "cell_type": "markdown",
   "metadata": {
    "id": "1X6-g6zgCwJd"
   },
   "source": [
    "**Exercise 1.** Plot the relu and the [softplus](https://en.wikipedia.org/wiki/Rectifier_(neural_networks)#Softplus) functions on the same graph."
   ]
  },
  {
   "cell_type": "code",
   "execution_count": null,
   "metadata": {
    "id": "Ob6HZUX0DJ8y"
   },
   "outputs": [],
   "source": []
  },
  {
   "cell_type": "markdown",
   "metadata": {
    "id": "vpRGfz0aDW3l"
   },
   "source": [
    "What is the main difference between the two functions?"
   ]
  },
  {
   "cell_type": "markdown",
   "metadata": {
    "id": "JjDeIufRAYVL"
   },
   "source": [
    "**Exercise 2.** Repeat the same scatter plot but using the [digits dataset](https://scikit-learn.org/stable/modules/generated/sklearn.datasets.load_digits.html) instead."
   ]
  },
  {
   "cell_type": "code",
   "execution_count": null,
   "metadata": {
    "id": "-JU3TXCBBB0c"
   },
   "outputs": [],
   "source": [
    "from sklearn.datasets import load_digits\n",
    "X, y = load_digits(return_X_y=True)"
   ]
  },
  {
   "cell_type": "markdown",
   "metadata": {
    "id": "w7wPWdmXBQA2"
   },
   "source": [
    "Are pixel values good features for classifying samples?"
   ]
  },
  {
   "cell_type": "markdown",
   "metadata": {
    "id": "dYM-oV1jD3RV"
   },
   "source": [
    "## Going further\n",
    "\n",
    "*  Official [tutorial](https://matplotlib.org/tutorials/introductory/pyplot.html)\n",
    "* [Tutorial](https://www.youtube.com/watch?v=qErBw-R2Ybk) on Youtube"
   ]
  }
 ],
 "metadata": {
  "colab": {
   "include_colab_link": true,
   "name": "Python basics",
   "provenance": []
  },
  "kernelspec": {
   "display_name": "Python 3 (ipykernel)",
   "language": "python",
   "name": "python3"
  },
  "language_info": {
   "codemirror_mode": {
    "name": "ipython",
    "version": 3
   },
   "file_extension": ".py",
   "mimetype": "text/x-python",
   "name": "python",
   "nbconvert_exporter": "python",
   "pygments_lexer": "ipython3",
   "version": "3.9.7"
  }
 },
 "nbformat": 4,
 "nbformat_minor": 1
}
