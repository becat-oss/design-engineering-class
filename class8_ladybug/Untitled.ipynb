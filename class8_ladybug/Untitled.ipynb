{
 "cells": [
  {
   "cell_type": "markdown",
   "id": "99471d6d",
   "metadata": {},
   "source": [
    "## shadingとガラスのSC valueのトレードオフの考え方について"
   ]
  },
  {
   "cell_type": "markdown",
   "id": "1a40e771",
   "metadata": {},
   "source": [
    "Step1. 現状のモデルで窓への積算日射量を計算する"
   ]
  },
  {
   "cell_type": "markdown",
   "id": "9a8fa191",
   "metadata": {},
   "source": [
    "Step2. 目標の積算日射量(18MWh)と比較"
   ]
  },
  {
   "cell_type": "markdown",
   "id": "6186ef55",
   "metadata": {},
   "source": [
    "Step3. 目標の積算日射量を達成できるようSHGC値、shadingのデザインを変更"
   ]
  },
  {
   "cell_type": "code",
   "execution_count": null,
   "id": "f3ad2084",
   "metadata": {},
   "outputs": [],
   "source": []
  }
 ],
 "metadata": {
  "kernelspec": {
   "display_name": "Python 3 (ipykernel)",
   "language": "python",
   "name": "python3"
  },
  "language_info": {
   "codemirror_mode": {
    "name": "ipython",
    "version": 3
   },
   "file_extension": ".py",
   "mimetype": "text/x-python",
   "name": "python",
   "nbconvert_exporter": "python",
   "pygments_lexer": "ipython3",
   "version": "3.9.7"
  }
 },
 "nbformat": 4,
 "nbformat_minor": 5
}
